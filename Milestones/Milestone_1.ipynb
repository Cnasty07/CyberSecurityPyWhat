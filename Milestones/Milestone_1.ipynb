{
 "cells": [
  {
   "cell_type": "markdown",
   "id": "aed2e0ce",
   "metadata": {},
   "source": [
    "# pyWhat Code Demo -- Milestone 1\n",
    "\n",
    "- Chris Nastasi, Henry Francis, Andrew Gonzalez\n"
   ]
  },
  {
   "cell_type": "markdown",
   "id": "c135dd02",
   "metadata": {},
   "source": [
    "## 1. Description & Interactions\n",
    "\n",
    "pyWhat is a simple resource identifier and tells you what it is. It is very versatile and has the ability to identify what a file is, text is, or hex of a file is. "
   ]
  },
  {
   "cell_type": "markdown",
   "id": "101f50ea",
   "metadata": {},
   "source": [
    "### Abstract\n",
    "\n",
    "-- insert abstract --"
   ]
  },
  {
   "cell_type": "markdown",
   "id": "a14cc0cb",
   "metadata": {},
   "source": [
    "### Introduction\n",
    "\n",
    "-- insert introduction -- "
   ]
  },
  {
   "cell_type": "markdown",
   "id": "23eab5c0",
   "metadata": {},
   "source": [
    "### Why Would You Not Want To Use pyWhat?\n",
    "\n",
    "-- insert list of why you would not want to use it --"
   ]
  },
  {
   "cell_type": "markdown",
   "id": "ee7209fa",
   "metadata": {},
   "source": [
    "### Examples Where pyWhat Would Be Useful\n",
    "\n",
    "-- insert list of examples here --"
   ]
  },
  {
   "cell_type": "markdown",
   "id": "15dc75c3",
   "metadata": {},
   "source": [
    "## 2. Getting Started\n",
    "\n",
    "This is a simple walkthrough of how the program would run when giving a command. In this example we would use a PCAP file for pyWhat to Identify the contents. "
   ]
  },
  {
   "cell_type": "markdown",
   "id": "c34761f9",
   "metadata": {},
   "source": [
    "### Information On pyWhat Implementation\n",
    "\n",
    "-- insert github link-- "
   ]
  },
  {
   "cell_type": "markdown",
   "id": "80cfdd47",
   "metadata": {},
   "source": [
    "### Identifying The Contents of a Pcap File Example. \n",
    "\n",
    "-- insert description of how it would do this -- \n",
    "\n"
   ]
  },
  {
   "cell_type": "code",
   "execution_count": 4,
   "id": "2922e627",
   "metadata": {},
   "outputs": [
    {
     "name": "stdout",
     "output_type": "stream",
     "text": [
      "<module 'pywhat.what' from 'C:\\\\Users\\\\chris\\\\AppData\\\\Local\\\\Packages\\\\PythonSoftwareFoundation.Python.3.13_qbz5n2kfra8p0\\\\LocalCache\\\\local-packages\\\\Python313\\\\site-packages\\\\pywhat\\\\what.py'>\n"
     ]
    }
   ],
   "source": [
    "from pywhat import what ## importing the pyWhat module\n",
    "\n",
    "print(what)\n"
   ]
  }
 ],
 "metadata": {
  "kernelspec": {
   "display_name": "Python 3",
   "language": "python",
   "name": "python3"
  },
  "language_info": {
   "codemirror_mode": {
    "name": "ipython",
    "version": 3
   },
   "file_extension": ".py",
   "mimetype": "text/x-python",
   "name": "python",
   "nbconvert_exporter": "python",
   "pygments_lexer": "ipython3",
   "version": "3.13.7"
  }
 },
 "nbformat": 4,
 "nbformat_minor": 5
}
