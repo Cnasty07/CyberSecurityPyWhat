{
 "cells": [
  {
   "cell_type": "markdown",
   "id": "aed2e0ce",
   "metadata": {},
   "source": [
    "# pyWhat Code Demo -- Milestone 1\n",
    "\n",
    "- Chris Nastasi, Henry Francis, Andrew Gonzalez\n"
   ]
  },
  {
   "cell_type": "markdown",
   "id": "c135dd02",
   "metadata": {},
   "source": [
    "## 1. Description & Interactions\n",
    "\n",
    "pyWhat is a simple resource identifier and tells you what it is. It is very versatile and has the ability to identify what a file is, text is, or hex of a file is. "
   ]
  },
  {
   "cell_type": "markdown",
   "id": "101f50ea",
   "metadata": {},
   "source": [
    "### Abstract\n",
    "\n",
    " This project explores the functionality and applications of pyWhat, an open-source Python tool designed for resource identification. pyWhat analyzes text strings, files, and raw hexadecimal data to determine their format, encoding, or purpose. By leveraging a broad set of pattern recognizers, it can quickly classify hashes, IP addresses, cryptographic tokens, encoded data, and file signatures. This makes it highly useful in fields such as cybersecurity, digital forensics, and software development, where rapid identification of unknown data is critical. In this demo, we highlight how pyWhat simplifies the process of recognizing obscure data formats, showcase practical examples of its usage, and evaluate its versatility. Additionally, we discuss its limitations and contexts where alternative tools may be preferable."
   ]
  },
  {
   "cell_type": "markdown",
   "id": "a14cc0cb",
   "metadata": {},
   "source": [
    "### Introduction\n",
    "\n",
    "In the world of computing and cybersecurity, professionals often encounter unfamiliar strings of text, suspicious files, or raw hexadecimal dumps that require interpretation. Manually identifying whether these artifacts represent a cryptographic hash, an encoded message, or a specific file format can be time-consuming and error-prone. This is where pyWhat becomes a valuable tool.\n",
    "pyWhat is an open-source Python utility that acts as a universal identifier, capable of analyzing text, files, and hex data to determine what they are. Much like the Unix file command but specialized for digital artifacts, pyWhat relies on a curated database of patterns to match inputs against known identifiers such as IP addresses, JWTs, Base64 encodings, ZIP headers, and more."
   ]
  },
  {
   "cell_type": "markdown",
   "id": "23eab5c0",
   "metadata": {},
   "source": [
    "### Why Would You Not Want To Use pyWhat?\n",
    "\n",
    "pyWhat depends on a set of predefined patterns. If the data type is rare, custom, or not included in its library, it won’t be recognized \n",
    "\n",
    "While it detects formats like Base64, JWTs, or ZIP files, it doesn’t automatically decode, extract, or analyze their contents\n",
    "\n",
    "It requires Python to run, which may not be available or permitted in restricted production or enterprise environments.\n",
    "\n",
    "It cannot detect malware, vulnerabilities, or malicious intent. It only classifies data, however, it doesn’t analyze threats.\n",
    "\n"
   ]
  },
  {
   "cell_type": "markdown",
   "id": "ee7209fa",
   "metadata": {},
   "source": [
    "### Examples Where pyWhat Would Be Useful\n",
    "\n",
    "Cybersecurity Investigations\n",
    "\n",
    "CTF (Capture the Flag) Competitions\n",
    "\n",
    "Incident Response\n",
    "\n",
    "Digital Forensics\n",
    "\n",
    "Software Development & Debugging\n"
   ]
  },
  {
   "cell_type": "markdown",
   "id": "15dc75c3",
   "metadata": {},
   "source": [
    "## 2. Getting Started\n",
    "\n",
    "This is a simple walkthrough of how the program would run when giving a command. In this example we would use a PCAP file for pyWhat to Identify the contents. "
   ]
  },
  {
   "cell_type": "markdown",
   "id": "c34761f9",
   "metadata": {},
   "source": [
    "### Information On pyWhat Implementation\n",
    "\n",
    "-- insert github link-- "
   ]
  },
  {
   "cell_type": "markdown",
   "id": "80cfdd47",
   "metadata": {},
   "source": [
    "### Identifying The Contents of a Pcap File Example. \n",
    "\n",
    "-- insert description of how it would do this -- \n",
    "\n"
   ]
  },
  {
   "cell_type": "code",
   "execution_count": 4,
   "id": "2922e627",
   "metadata": {},
   "outputs": [
    {
     "name": "stdout",
     "output_type": "stream",
     "text": [
      "<module 'pywhat.what' from 'C:\\\\Users\\\\chris\\\\AppData\\\\Local\\\\Packages\\\\PythonSoftwareFoundation.Python.3.13_qbz5n2kfra8p0\\\\LocalCache\\\\local-packages\\\\Python313\\\\site-packages\\\\pywhat\\\\what.py'>\n"
     ]
    }
   ],
   "source": [
    "from pywhat import what ## importing the pyWhat module\n",
    "\n",
    "print(what)\n"
   ]
  }
 ],
 "metadata": {
  "kernelspec": {
   "display_name": "Python 3",
   "language": "python",
   "name": "python3"
  },
  "language_info": {
   "codemirror_mode": {
    "name": "ipython",
    "version": 3
   },
   "file_extension": ".py",
   "mimetype": "text/x-python",
   "name": "python",
   "nbconvert_exporter": "python",
   "pygments_lexer": "ipython3",
   "version": "3.13.7"
  }
 },
 "nbformat": 4,
 "nbformat_minor": 5
}
