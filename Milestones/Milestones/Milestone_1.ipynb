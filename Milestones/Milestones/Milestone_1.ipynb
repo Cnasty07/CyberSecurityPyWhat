{
 "cells": [
  {
   "cell_type": "markdown",
   "id": "aed2e0ce",
   "metadata": {},
   "source": [
    "# pyWhat Code Demo -- Milestone 1\n",
    "\n",
    "- Chris Nastasi, Henry Francis, Andrew Gonzalez\n",
    "- Our Project Repo can be found here: [CyberSecurityPyWhat](https://github.com/Cnasty07/CyberSecurityPyWhat)\n"
   ]
  },
  {
   "cell_type": "markdown",
   "id": "c135dd02",
   "metadata": {},
   "source": [
    "## 1. Description & Interactions\n",
    "\n",
    "pyWhat is a simple resource identifier and tells you what it is. It is very versatile and has the ability to identify what a file is, text is, or hex of a file is. "
   ]
  },
  {
   "cell_type": "markdown",
   "id": "101f50ea",
   "metadata": {},
   "source": [
    "### Abstract\n",
    "\n",
    " This project explores the functionality and applications of pyWhat, an open-source Python tool designed for resource identification. pyWhat analyzes text strings, files, and raw hexadecimal data to determine their format, encoding, or purpose. By leveraging a broad set of pattern recognizers, it can quickly classify hashes, IP addresses, cryptographic tokens, encoded data, and file signatures. This makes it highly useful in fields such as cybersecurity, digital forensics, and software development, where rapid identification of unknown data is critical. In this demo, we highlight how pyWhat simplifies the process of recognizing obscure data formats, showcase practical examples of its usage, and evaluate its versatility. Additionally, we discuss its limitations and contexts where alternative tools may be preferable."
   ]
  },
  {
   "cell_type": "markdown",
   "id": "a14cc0cb",
   "metadata": {},
   "source": [
    "### Introduction\n",
    "\n",
    "In the world of computing and cybersecurity, professionals often encounter unfamiliar strings of text, suspicious files, or raw hexadecimal dumps that require interpretation. Manually identifying whether these artifacts represent a cryptographic hash, an encoded message, or a specific file format can be time-consuming and error-prone. This is where pyWhat becomes a valuable tool.\n",
    "pyWhat is an open-source Python utility that acts as a universal identifier, capable of analyzing text, files, and hex data to determine what they are. Much like the Unix file command but specialized for digital artifacts, pyWhat relies on a curated database of patterns to match inputs against known identifiers such as IP addresses, JWTs, Base64 encodings, ZIP headers, and more."
   ]
  },
  {
   "cell_type": "markdown",
   "id": "23eab5c0",
   "metadata": {},
   "source": [
    "### Why Would You Not Want To Use pyWhat?\n",
    "\n",
    "pyWhat depends on a set of predefined patterns. If the data type is rare, custom, or not included in its library, it won’t be recognized \n",
    "\n",
    "While it detects formats like Base64, JWTs, or ZIP files, it doesn’t automatically decode, extract, or analyze their contents\n",
    "\n",
    "It requires Python to run, which may not be available or permitted in restricted production or enterprise environments.\n",
    "\n",
    "It cannot detect malware, vulnerabilities, or malicious intent. It only classifies data, however, it doesn’t analyze threats.\n",
    "\n"
   ]
  },
  {
   "cell_type": "markdown",
   "id": "ee7209fa",
   "metadata": {},
   "source": [
    "### Examples Where pyWhat Would Be Useful\n",
    "\n",
    "Cybersecurity Investigations\n",
    "\n",
    "CTF (Capture the Flag) Competitions\n",
    "\n",
    "Incident Response\n",
    "\n",
    "Digital Forensics\n",
    "\n",
    "Software Development & Debugging\n"
   ]
  },
  {
   "cell_type": "markdown",
   "id": "8221ab78",
   "metadata": {},
   "source": [
    "## **2. Getting Started**\n",
    "\n",
    "This is a simple walkthrough of how the program would run when giving a command. In this example we would use a PCAP file for pyWhat to Identify the contents. "
   ]
  },
  {
   "cell_type": "markdown",
   "id": "8fd13058",
   "metadata": {},
   "source": [
    "### **Information On pyWhat Implementation**\n",
    "\n",
    "Official Documentation can be found here: https://github.com/bee-san/pyWhat\n"
   ]
  },
  {
   "cell_type": "markdown",
   "id": "d506d8ea",
   "metadata": {},
   "source": [
    "### **Walkthrough Example: Identifying A Random Hash String**\n",
    "\n",
    "The code in the following section is depicted and explained to simulate what happens when you run the 'what' or 'pywhat' command in the Command-Line-Interface. In this example we are giving pyWhat a random hash to determine what it is.\n",
    "**Important**: Note that due to how complex the walkthrough could get, we decided to do something simple. However, pyWhat has the ability to scan malware, scan pcap files, and identify strings easily. You can also scan and identify directories and files recursively. \n",
    "\n",
    "For this example, we chose to use a simple string hash to identify. This is \"0x52908400098527886E0F7030069857D2E4169EE7\" which is the example used in the main repository. This is an Ethereum Wallet address. We also used the default filters and tags rather than adding complexities to this walkthrough.\n",
    "\n",
    "To run this yourself you would need to either clone the repo, or install pyWhat using a package manager. The install command for pip is: \n",
    "```bash\n",
    "pip install pyWhat\n",
    "```\n"
   ]
  },
  {
   "cell_type": "markdown",
   "id": "27726c62",
   "metadata": {},
   "source": [
    "### ***Step 1.0: Invoking pyWhat from the CLI***\n",
    "\n",
    "[](step-one)\n",
    "\n",
    "In this function we are invoking pyWhat using python and inputting arguments into the subprocess using python. We want to analyze a random hash so we are are going to input the hash directly into a quote string in the command line.\n",
    "\n",
    "From CLI:\n",
    "> ```bash\n",
    "> example@tamusa\\~: what \"0x52908400098527886E0F7030069857D2E4169EE7\"\n",
    "> ```\n",
    "\n",
    "Using Python:"
   ]
  },
  {
   "cell_type": "code",
   "execution_count": 1,
   "id": "e33fb2e2",
   "metadata": {},
   "outputs": [],
   "source": [
    "import subprocess ## Importing subprocess to run CLI commands\n",
    "\n",
    "try:\n",
    "    result = subprocess.run(['what', '0x52908400098527886E0F7030069857D2E4169EE7', '--format', \"pretty\"], capture_output=True, text=True) ## Example command to invoke pywhat CLI\n",
    "    # print(result.stdout)\n",
    "except FileNotFoundError:\n",
    "    print(\"pywhat CLI is not installed or not found in PATH.\")\n",
    "    \n"
   ]
  },
  {
   "cell_type": "markdown",
   "id": "a8627e30",
   "metadata": {},
   "source": [
    "#### **Step 1.1: Tracing Invokation From CLI**\n",
    "\n",
    "When pyWhat is called the \\_\\_main\\_\\_.py script is ran and then calls the what.py file. This is the main entry point to the program.\n",
    "\n",
    "> ```python\n",
    "> \"\"\"\n",
    "> pyWhat: Identify Anything.\n",
    "> \"\"\"\n",
    ">\n",
    "> import platform\n",
    "> import sys\n",
    ">\n",
    "> if __name__ == \"__main__\":\n",
    ">    \"\"\" Main entry point for the pyWhat application. \"\"\"\n",
    ">     # Check for Python version\n",
    ">     if sys.version_info < (3, 6):\n",
    ">         print(\n",
    ">             f\"What requires Python 3.6+, you are using {platform.python_version()}. Please install a higher Python version.\"\n",
    ">         )\n",
    ">         sys.exit(1)\n",
    ">     # Importing what here to avoid circular imports\n",
    ">     from pywhat import what\n",
    "> \n",
    ">     # If no arguments are provided, show help message\n",
    ">     if len(sys.argv) == 1:\n",
    ">         what.main([\"--help\"]) \n",
    "> \n",
    ">     what.main()  # calls the main function in what.py\n",
    "> ```\n"
   ]
  },
  {
   "cell_type": "markdown",
   "id": "b2476964",
   "metadata": {},
   "source": [
    "### ***Step 2.0: what.main()***\n",
    "\n",
    "\n",
    "The first step in what.main() is to assign and call the What_Object class. This class then calls the function of what_is_this() to identify the input given for pyWhat to identify.\n",
    "\n",
    "\n",
    "*Note: In the what.main this is where the filters and tags are checked and loaded, but to keep this walkthrough simple we did not add any flags to our command. So we will skip this part for simplicity for now.*"
   ]
  },
  {
   "cell_type": "markdown",
   "id": "93a15174",
   "metadata": {},
   "source": [
    "> ```python\n",
    ">  ## Step 2: Identifying the input using the What_Object class\n",
    ">     what_obj = What_Object(dist) # dist is the variable used for filtering to specific flags.\n",
    ">     if kwargs[\"key\"] is None: \n",
    ">         key = Keys.NONE\n",
    ">     else:\n",
    ">         try:\n",
    ">             key = str_to_key(kwargs[\"key\"])\n",
    ">         except ValueError:\n",
    ">             print(\"Invalid key\")\n",
    ">             sys.exit(1)\n",
    ">     ## Step 2.1: Getting the identified output\n",
    ">     identified_output = what_obj.what_is_this(\n",
    ">         kwargs[\"text_input\"], \n",
    ">         kwargs[\"only_text\"],\n",
    ">         key,\n",
    ">         kwargs[\"reverse\"],\n",
    ">         boundaryless,\n",
    ">         kwargs[\"include_filenames\"],\n",
    ">     ) # Identifies the user input and applies the filters and tags, then stores it into the identified_output variable with a dictionary type.\n",
    "> ```"
   ]
  },
  {
   "cell_type": "markdown",
   "id": "028fd3dd",
   "metadata": {},
   "source": [
    "#### **Step 2.1: What_Object class**\n",
    "\n",
    "This class takes in the filters and distribution of the command line, and attempts to identify what the user has given them. Because it is recursive, it can identify multiple things at once in a file or program. This will then return a dictionary type back to the main() function."
   ]
  },
  {
   "cell_type": "markdown",
   "id": "1bc79636",
   "metadata": {},
   "source": [
    "> ```python\n",
    "> class What_Object:\n",
    ">     def __init__(self, distribution):\n",
    ">         self.id = identifier.Identifier(dist=distribution)\n",
    "> \n",
    ">     ## INFO: Step 2.1: Getting the identified output\n",
    ">     def what_is_this(\n",
    ">         self,\n",
    ">         text: str,\n",
    ">         only_text: bool,\n",
    ">         key,\n",
    ">         reverse: bool,\n",
    ">         boundaryless: Filter,\n",
    ">         include_filenames: bool,\n",
    ">     ) -> dict:\n",
    ">         \"\"\"\n",
    ">         Returns a Python dictionary of everything that has been identified\n",
    ">         \"\"\"\n",
    ">         return self.id.identify(\n",
    ">             text,\n",
    ">             only_text=only_text,\n",
    ">             key=key,\n",
    ">             reverse=reverse,\n",
    ">             boundaryless=boundaryless,\n",
    ">             include_filenames=include_filenames,\n",
    ">         )\n",
    "> ```"
   ]
  },
  {
   "cell_type": "markdown",
   "id": "116127b4",
   "metadata": {},
   "source": [
    "### ***Step 3.0: Printing Results***\n",
    "\n",
    "Lastly, the what.main() calls the printing.py class to print the results, with multiple options to display the results. Default mode is pretty which will be shown in this example, but there are other options to display the output which include json, none, and raw formats."
   ]
  },
  {
   "cell_type": "markdown",
   "id": "e9db74bb",
   "metadata": {},
   "source": [
    "> ```python\n",
    ">     ## Step 3.1: Printing the output using the printer class\n",
    ">     p = printer.Printing()\n",
    "> \n",
    ">     ## Step 3.2: Deciding how to print the output based on user arguments\n",
    ">     if kwargs[\"json\"] or str(kwargs[\"format\"]).strip() == \"json\":\n",
    ">         p.print_json(identified_output)\n",
    ">     elif str(kwargs[\"format\"]).strip() == \"pretty\":\n",
    ">         p.pretty_print(identified_output, kwargs[\"text_input\"], kwargs[\"print_tags\"])\n",
    ">     elif kwargs[\"format\"] is not None:\n",
    ">         p.format_print(identified_output, kwargs[\"format\"])\n",
    ">     else:\n",
    ">         p.print_raw(identified_output, kwargs[\"text_input\"], kwargs[\"print_tags\"])\n",
    "> ```"
   ]
  },
  {
   "cell_type": "markdown",
   "id": "1e2e652f",
   "metadata": {},
   "source": [
    "### ***Step 4: End Result***\n",
    "\n",
    "> From start to finish for pyWhat to identify input from the user you will get the cli and output in pretty format that looks like this. \n",
    ">\n",
    "> ![main_demo.gif](https://github.com/bee-san/pyWhat/raw/main/images/main_demo.gif)\n",
    "\n",
    "#### **Step 4.1: Alternatively, this is what our result from the python cell in [Step 1](#step-10-invoking-pywhat-from-the-cli) would return:**"
   ]
  },
  {
   "cell_type": "code",
   "execution_count": 2,
   "id": "c617cb0b",
   "metadata": {},
   "outputs": [
    {
     "name": "stdout",
     "output_type": "stream",
     "text": [
      "\u001b[1;37mPossible Identification\u001b[0m\n",
      "┏━━━━━━━━━━━━━━━━━━━━━━━━━┳━━━━━━━━━━━━━━━━━━━━━━━━━┳━━━━━━━━━━━━━━━━━━━━━━━━━━┓\n",
      "┃\u001b[1;37m \u001b[0m\u001b[1;37mMatched Text           \u001b[0m\u001b[1;37m \u001b[0m┃\u001b[1;37m \u001b[0m\u001b[1;37mIdentified as          \u001b[0m\u001b[1;37m \u001b[0m┃\u001b[1;37m \u001b[0m\u001b[1;37mDescription             \u001b[0m\u001b[1;37m \u001b[0m┃\n",
      "┡━━━━━━━━━━━━━━━━━━━━━━━━━╇━━━━━━━━━━━━━━━━━━━━━━━━━╇━━━━━━━━━━━━━━━━━━━━━━━━━━┩\n",
      "│ 5290840009852           │ Phone Number            │ None                     │\n",
      "├─────────────────────────┼─────────────────────────┼──────────────────────────┤\n",
      "│ 7030069857              │ Phone Number            │ None                     │\n",
      "├─────────────────────────┼─────────────────────────┼──────────────────────────┤\n",
      "│ 529084000               │ American Social         │ An \u001b]8;id=835429;https://en.wikipedia.org/wiki/Social_Security_number\u001b\\\u001b[97mAmerican \u001b[0m\u001b]8;;\u001b\\             │\n",
      "│                         │ Security Number         │ \u001b]8;id=835429;https://en.wikipedia.org/wiki/Social_Security_number\u001b\\\u001b[97mIdentification Number\u001b[0m\u001b]8;;\u001b\\    │\n",
      "├─────────────────────────┼─────────────────────────┼──────────────────────────┤\n",
      "│ 030069857               │ American Social         │ An \u001b]8;id=444463;https://en.wikipedia.org/wiki/Social_Security_number\u001b\\\u001b[97mAmerican \u001b[0m\u001b]8;;\u001b\\             │\n",
      "│                         │ Security Number         │ \u001b]8;id=444463;https://en.wikipedia.org/wiki/Social_Security_number\u001b\\\u001b[97mIdentification Number\u001b[0m\u001b]8;;\u001b\\    │\n",
      "├─────────────────────────┼─────────────────────────┼──────────────────────────┤\n",
      "│ 5290840009852788        │ MasterCard Number       │ None                     │\n",
      "├─────────────────────────┼─────────────────────────┼──────────────────────────┤\n",
      "│ 0x52908400098527886E0F7 │ Ethereum (ETH) Wallet   │ Click here to analyse in │\n",
      "│ 030069857D2E4169EE7     │ Address                 │ the browser              │\n",
      "│                         │                         │ https://etherscan.io/add │\n",
      "│                         │                         │ ress/0x52908400098527886 │\n",
      "│                         │                         │ E0F7030069857D2E4169EE7  │\n",
      "├─────────────────────────┼─────────────────────────┼──────────────────────────┤\n",
      "│ 52908400098             │ Turkish Identification  │ None                     │\n",
      "│                         │ Number                  │                          │\n",
      "└─────────────────────────┴─────────────────────────┴──────────────────────────┘\n",
      "\n"
     ]
    }
   ],
   "source": [
    "print(result.stdout) # Printing the result from the step 1.0"
   ]
  },
  {
   "cell_type": "markdown",
   "id": "d2e20c6b",
   "metadata": {},
   "source": [
    "<!-- ![entryPoint](./walkthrough_snaps/entryPoint.png) -->\n",
    "<!-- <img src=\"./walkthrough_snaps/entryPoint.png\" alt=\"entryPointPicture\" width=50%> -->"
   ]
  }
 ],
 "metadata": {
  "kernelspec": {
   "display_name": "Python 3",
   "language": "python",
   "name": "python3"
  },
  "language_info": {
   "codemirror_mode": {
    "name": "ipython",
    "version": 3
   },
   "file_extension": ".py",
   "mimetype": "text/x-python",
   "name": "python",
   "nbconvert_exporter": "python",
   "pygments_lexer": "ipython3",
   "version": "3.13.2"
  }
 },
 "nbformat": 4,
 "nbformat_minor": 5
}
