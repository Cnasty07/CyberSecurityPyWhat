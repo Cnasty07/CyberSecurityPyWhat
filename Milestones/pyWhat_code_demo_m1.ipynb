{
 "cells": [
  {
   "cell_type": "markdown",
   "id": "aed2e0ce",
   "metadata": {},
   "source": [
    "# pyWhat Code Demo -- Milestone 1\n",
    "\n",
    "- Chris Nastasi, Henry Francis, Andrew Gonzalez\n"
   ]
  },
  {
   "cell_type": "markdown",
   "id": "c135dd02",
   "metadata": {},
   "source": [
    "## 1. What is it?\n",
    "\n",
    "pyWhat is a simple resource identifier and tells you what it is. It is very versatile and has the ability to identify what a file is, text is, or hex of a file is. "
   ]
  },
  {
   "cell_type": "markdown",
   "id": "80cfdd47",
   "metadata": {},
   "source": [
    "### 2. Code Demo 1\n",
    "\n",
    "This example is basic and shows how the pyWhat script will identify a string and tell you what it is. "
   ]
  },
  {
   "cell_type": "code",
   "execution_count": null,
   "id": "2922e627",
   "metadata": {},
   "outputs": [
    {
     "ename": "AttributeError",
     "evalue": "module 'pywhat' has no attribute 'what'",
     "output_type": "error",
     "traceback": [
      "\u001b[31m---------------------------------------------------------------------------\u001b[39m",
      "\u001b[31mAttributeError\u001b[39m                            Traceback (most recent call last)",
      "\u001b[36mCell\u001b[39m\u001b[36m \u001b[39m\u001b[32mIn[1]\u001b[39m\u001b[32m, line 3\u001b[39m\n\u001b[32m      1\u001b[39m \u001b[38;5;28;01mimport\u001b[39;00m\u001b[38;5;250m \u001b[39m\u001b[34;01mpywhat\u001b[39;00m\n\u001b[32m----> \u001b[39m\u001b[32m3\u001b[39m \u001b[43mpywhat\u001b[49m\u001b[43m.\u001b[49m\u001b[43mwhat\u001b[49m.get_text(\u001b[33m\"\u001b[39m\u001b[33mHello World!\u001b[39m\u001b[33m\"\u001b[39m)\n",
      "\u001b[31mAttributeError\u001b[39m: module 'pywhat' has no attribute 'what'"
     ]
    }
   ],
   "source": [
    "import pywhat\n",
    "\n"
   ]
  }
 ],
 "metadata": {
  "kernelspec": {
   "display_name": "Python 3",
   "language": "python",
   "name": "python3"
  },
  "language_info": {
   "codemirror_mode": {
    "name": "ipython",
    "version": 3
   },
   "file_extension": ".py",
   "mimetype": "text/x-python",
   "name": "python",
   "nbconvert_exporter": "python",
   "pygments_lexer": "ipython3",
   "version": "3.13.7"
  }
 },
 "nbformat": 4,
 "nbformat_minor": 5
}
